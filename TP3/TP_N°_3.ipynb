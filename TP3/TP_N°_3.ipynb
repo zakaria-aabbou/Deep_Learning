{
  "cells": [
    {
      "cell_type": "markdown",
      "metadata": {
        "id": "view-in-github",
        "colab_type": "text"
      },
      "source": [
        "<a href=\"https://colab.research.google.com/github/zakaria-aabbou/Deep_Learning/blob/main/TP3/TP_N%C2%B0_3.ipynb\" target=\"_parent\"><img src=\"https://colab.research.google.com/assets/colab-badge.svg\" alt=\"Open In Colab\"/></a>"
      ]
    },
    {
      "cell_type": "markdown",
      "metadata": {
        "id": "RhdOKr7RcvT-"
      },
      "source": [
        "# Deep Learning\n",
        "## Practical Deep Learning Tutorial with PyTorch - Tutorial N° 3"
      ]
    },
    {
      "cell_type": "markdown",
      "metadata": {
        "id": "L1fd52y-cvUF"
      },
      "source": [
        "### 2020-2021\n",
        "\n"
      ]
    },
    {
      "cell_type": "markdown",
      "metadata": {
        "id": "O10kUPsscvUH"
      },
      "source": [
        "# Importing necessary libraries"
      ]
    },
    {
      "cell_type": "code",
      "execution_count": 14,
      "metadata": {
        "id": "lz0ZOicfcvUI"
      },
      "outputs": [],
      "source": [
        "import torch\n",
        "from torch.autograd import grad\n",
        "import torch.nn.functional as F\n",
        "import matplotlib.pyplot as plt\n",
        "import numpy as np\n",
        "from sklearn.datasets import make_blobs"
      ]
    },
    {
      "cell_type": "markdown",
      "metadata": {
        "id": "OraNb6KucvUL"
      },
      "source": [
        "# Adaline"
      ]
    },
    {
      "cell_type": "markdown",
      "metadata": {
        "id": "NCCO6xOJcvUN"
      },
      "source": [
        "1. Built ADALINE model using the nn.Module class "
      ]
    },
    {
      "cell_type": "code",
      "execution_count": 15,
      "metadata": {
        "id": "hOZCQWOUcvUO"
      },
      "outputs": [],
      "source": [
        "class Adaline(torch.nn.Module):\n",
        "    def __init__(self, num_features):\n",
        "        super(Adaline, self).__init__()\n",
        "        self.linear = torch.nn.Linear(num_features, 1)  # une transformation lineare de la forme X.(W.transposé)\n",
        "                                                        #X matrice de donnes qui a (num_features) variables\n",
        "                                                        # chaque donne sera multiplie par un vecteur de poids \n",
        "                                                        # de taille (1,num_features), ca donne un veteur de taille\n",
        "                                                        # (num_features,1)\n",
        "        self.linear.weight.detach().zero_()  # changer les poids aleatoire à zero (pour l'initialisation)\n",
        "        self.linear.bias.detach().zero_()  #meme chose pour le bias\n",
        "    def forward(self, x):\n",
        "        activations = self.linear(x)\n",
        "        return activations.view(-1)"
      ]
    },
    {
      "cell_type": "markdown",
      "metadata": {
        "id": "5y1h9rNJcvUQ"
      },
      "source": [
        "2. Using 'iris.txt', create a binary datasets in 2-D : The last 100 instances of iris described only by the 2nd and 3rd features\n",
        "    \n",
        "    Split the dataset into traing and test sets (70%,30%) \n",
        "\n",
        "    Normalize the dataset"
      ]
    },
    {
      "cell_type": "code",
      "execution_count": 16,
      "metadata": {
        "id": "GdnpBl3fcvUS"
      },
      "outputs": [],
      "source": [
        "import pandas as pd\n",
        "df = pd.read_csv('iris.txt', index_col=None, header=None)    #lire le fichier iris\n",
        "df.columns = ['x1', 'x2', 'x3', 'x4', 'y'] #renommer les colonnes\n",
        "df = df.iloc[50:150]   #prendre que la 100 dernière données de la base, donc que les donnees des 2 dernieres classes\n",
        "df['y'] = df['y'].apply(lambda x: 0 if x == 'Iris-versicolor' else 1) #coder la 2e classe par 0 la 3e par 1\n",
        "\n",
        "\n",
        "# Assign features and target\n",
        "\n",
        "X = torch.tensor(df[['x2', 'x3']].values, dtype=torch.float) #ne considerer que la 2e et 3e variables, c'est notre tensor X\n",
        "y = torch.tensor(df['y'].values, dtype=torch.int) #le tensor y correeponds aux labels y\n",
        "\n",
        "# Shuffling & train/test split\n",
        "\n",
        "torch.manual_seed(123)\n",
        "shuffle_idx = torch.randperm(y.size(0), dtype=torch.long)  #melanger les indices \n",
        "X, y = X[shuffle_idx], y[shuffle_idx]  #melanger les donnes, ca garde la corrspondance entre une donnée et son label\n",
        "percent70 = int(shuffle_idx.size(0)*0.7)\n",
        "X_train, X_test = X[shuffle_idx[:percent70]], X[shuffle_idx[percent70:]]  #70 premiers points pour training \n",
        "y_train, y_test = y[shuffle_idx[:percent70]], y[shuffle_idx[percent70:]]  # 30 dernieres données pour le test\n",
        "\n",
        "# Normalize (mean zero, unit variance)\n",
        "\n",
        "mu, sigma = X_train.mean(dim=0), X_train.std(dim=0) #normalization, soustraire la moyenne diviser par lecarte type\n",
        "X_train = (X_train - mu) / sigma  \n",
        "X_test =  (X_test - mu) / sigma"
      ]
    },
    {
      "cell_type": "code",
      "execution_count": 17,
      "metadata": {
        "colab": {
          "base_uri": "https://localhost:8080/"
        },
        "id": "BRjMbOREcvUU",
        "outputId": "a8ae274d-0368-4b28-c07f-6cfea54c3e78"
      },
      "outputs": [
        {
          "output_type": "execute_result",
          "data": {
            "text/plain": [
              "Adaline(\n",
              "  (linear): Linear(in_features=2, out_features=1, bias=True)\n",
              ")"
            ]
          },
          "metadata": {},
          "execution_count": 17
        }
      ],
      "source": [
        "model = Adaline(num_features=X_train.size(1))\n",
        "model"
      ]
    },
    {
      "cell_type": "markdown",
      "metadata": {
        "id": "sC8Ir_necvUX"
      },
      "source": [
        "3. Train the model : we will use MSELoss (mean squared error (squared L2 norm)) as loss function. The optimizer is SGD (Stochastic Gradient Descent) with learning rate 0.01."
      ]
    },
    {
      "cell_type": "code",
      "execution_count": 18,
      "metadata": {
        "colab": {
          "base_uri": "https://localhost:8080/"
        },
        "id": "XVOJ4jv6cvUY",
        "outputId": "2fe71ebd-bd1e-458a-9338-6e8894b2a072"
      },
      "outputs": [
        {
          "output_type": "execute_result",
          "data": {
            "text/plain": [
              "torch.Size([70, 2])"
            ]
          },
          "metadata": {},
          "execution_count": 18
        }
      ],
      "source": [
        "X_train.shape"
      ]
    },
    {
      "cell_type": "code",
      "execution_count": 19,
      "metadata": {
        "id": "oJGzxz21cvUZ"
      },
      "outputs": [],
      "source": [
        "def train(model, x, y, num_epochs, learning_rate, seed, minibatch_size=10):\n",
        "    cost = []\n",
        "    torch.manual_seed(seed)\n",
        "    optimizer = torch.optim.SGD(model.parameters(), lr=learning_rate) #use a SGD optimizer\n",
        "    for e in range(num_epochs):\n",
        "        #### Shuffle epoch\n",
        "        shuffle_idx = torch.randperm(y.size(0), dtype=torch.long)\n",
        "        minibatches = torch.split(shuffle_idx, minibatch_size)\n",
        "        for minibatch_idx in minibatches:\n",
        "            yhat = model.forward(x[minibatch_idx])                  #calcul yhat\n",
        "            loss = F.mse_loss(yhat, y[minibatch_idx])               #calcul the loss function using MSE\n",
        "            optimizer.zero_grad()                                   # set the gradients to zero\n",
        "            loss.backward()                                         # calculer le gradients\n",
        "            optimizer.step()                                        # mise a jour des poids ####"
      ]
    },
    {
      "cell_type": "code",
      "execution_count": 20,
      "metadata": {
        "id": "4QpdmHfUcvUa"
      },
      "outputs": [],
      "source": [
        "train(model, X_train, y_train.float(),num_epochs=142,learning_rate=0.01,seed=123)"
      ]
    },
    {
      "cell_type": "markdown",
      "metadata": {
        "id": "INzkTdqocvUb"
      },
      "source": [
        "4. Compute the model accuracy "
      ]
    },
    {
      "cell_type": "code",
      "execution_count": 21,
      "metadata": {
        "colab": {
          "base_uri": "https://localhost:8080/"
        },
        "id": "gK1-GrBMcvUc",
        "outputId": "e5dc9611-42aa-4f1e-9044-752acb964cdb"
      },
      "outputs": [
        {
          "output_type": "stream",
          "name": "stdout",
          "text": [
            "Training Accuracy: 91.43\n",
            "Test Accuracy: 96.67\n",
            "Weights Parameter containing:\n",
            "tensor([[-0.0700,  0.4218]], requires_grad=True)\n",
            "Bias Parameter containing:\n",
            "tensor([0.4858], requires_grad=True)\n"
          ]
        }
      ],
      "source": [
        "def custom_where(cond, x_1, x_2):\n",
        "    return (cond * x_1) + (torch.logical_not(cond) * x_2)\n",
        "train_pred = model.forward(X_train)\n",
        "train_acc = torch.mean(\n",
        "    (custom_where(train_pred > 0.5, 1, 0).int() == y_train).float())\n",
        "test_pred = model.forward(X_test)\n",
        "test_acc = torch.mean((custom_where(test_pred > 0.5, 1, 0).int() == y_test).float())\n",
        "print('Training Accuracy: %.2f' % (train_acc*100))\n",
        "print('Test Accuracy: %.2f' % (test_acc*100))\n",
        "print('Weights', model.linear.weight)\n",
        "print('Bias', model.linear.bias)"
      ]
    },
    {
      "cell_type": "markdown",
      "metadata": {
        "id": "5m_LjoQccvUd"
      },
      "source": [
        "https://github.com/rasbt/stat479-deep-learning-ss19/blob/c8bf651b5ddfcf5d077ed04ff7eac0f3f1f3e6bf/L06_pytorch/code/adaline-with-autograd.ipynb"
      ]
    },
    {
      "cell_type": "code",
      "execution_count": 21,
      "metadata": {
        "id": "yDU0tghRcvUe"
      },
      "outputs": [],
      "source": [
        ""
      ]
    },
    {
      "cell_type": "code",
      "execution_count": 21,
      "metadata": {
        "id": "ke6QRVCQcvUe"
      },
      "outputs": [],
      "source": [
        ""
      ]
    },
    {
      "cell_type": "markdown",
      "metadata": {
        "id": "y2F5-CBycvUf"
      },
      "source": [
        "# Perceptron"
      ]
    },
    {
      "cell_type": "markdown",
      "metadata": {
        "id": "6TR3cCO3cvUg"
      },
      "source": [
        "5. Built a Perceptron model using nn.Module class"
      ]
    },
    {
      "cell_type": "code",
      "execution_count": 22,
      "metadata": {
        "id": "M2UJS-l9cvUg"
      },
      "outputs": [],
      "source": [
        "device = torch.device(\"cuda:0\" if torch.cuda.is_available() else \"cpu\")\n",
        "\n",
        "class Perceptron():\n",
        "    def __init__(self, num_features):\n",
        "        self.num_features = num_features\n",
        "        self.weights = torch.zeros(num_features, 1, \n",
        "                                   dtype=torch.float32, device=device)\n",
        "        self.bias = torch.zeros(1, dtype=torch.float32, device=device)\n",
        "        self.ones = torch.ones(1)\n",
        "        self.zeros = torch.zeros(1)\n",
        "\n",
        "    def forward(self, x):\n",
        "        linear = torch.add(torch.mm(x, self.weights), self.bias)\n",
        "        predictions = custom_where(linear > 0., 1, 0).float()\n",
        "        return predictions\n",
        "        \n",
        "    def backward(self, x, y):\n",
        "        predictions = self.forward(x)\n",
        "        errors = y - predictions\n",
        "        return errors\n",
        "        \n",
        "    def train(self, x, y, epochs):\n",
        "        for e in range(epochs):\n",
        "            for i in range(y.shape[0]):\n",
        "                # use view because backward expects a matrix (i.e., 2D tensor)\n",
        "                errors = self.backward(x[i].view(1, self.num_features), y[i]).view(-1)\n",
        "                self.weights += (errors * x[i]).view(self.num_features, 1)\n",
        "                self.bias += errors\n",
        "                \n",
        "    def evaluate(self, x, y):\n",
        "        predictions = self.forward(x).reshape(-1)\n",
        "        accuracy = torch.sum(predictions == y).float() / y.shape[0]\n",
        "        return accuracy"
      ]
    },
    {
      "cell_type": "markdown",
      "metadata": {
        "id": "SRoOh1QwcvUh"
      },
      "source": [
        "6. Load the 'perceptron_toydata' dataset\n",
        "\n",
        "    Split the dataset into train and test sets\n",
        "    \n",
        "    Normalize the data"
      ]
    },
    {
      "cell_type": "code",
      "execution_count": 23,
      "metadata": {
        "colab": {
          "base_uri": "https://localhost:8080/"
        },
        "id": "q_nnYLqCcvUi",
        "outputId": "12742265-7ab6-4c9f-951a-ca7a0686f5b5"
      },
      "outputs": [
        {
          "output_type": "stream",
          "name": "stdout",
          "text": [
            "Class label counts: tensor([50, 50])\n",
            "X.shape: torch.Size([100, 2])\n",
            "y.shape: torch.Size([100])\n",
            "torch.Size([70, 2])\n",
            "torch.Size([70])\n",
            "torch.Size([30, 2])\n",
            "torch.Size([30])\n"
          ]
        }
      ],
      "source": [
        "df = pd.read_csv('perceptron_toydata.txt', index_col=None, header=None , delimiter='\\t')\n",
        "df.columns = ['x1', 'x2', 'y']\n",
        "X = torch.tensor(df[['x1', 'x2']].values, dtype=torch.float) \n",
        "y = torch.tensor(df['y'].values, dtype=torch.int) \n",
        "print('Class label counts:', torch.bincount(y))\n",
        "print('X.shape:', X.shape)\n",
        "print('y.shape:', y.shape)\n",
        "\n",
        "# Shuffling & train/test split\n",
        "shuffle_idx = torch.randperm(y.size(0), dtype=torch.long)\n",
        "X, y = X[shuffle_idx], y[shuffle_idx]\n",
        "percent70 = int(shuffle_idx.size(0)*0.7)\n",
        "X_train, X_test = X[shuffle_idx[:percent70]], X[shuffle_idx[percent70:]]\n",
        "y_train, y_test = y[shuffle_idx[:percent70]], y[shuffle_idx[percent70:]]\n",
        "# Normalize (mean zero, unit variance)\n",
        "mu, sigma = X_train.mean(axis=0), X_train.std(axis=0)\n",
        "X_train = (X_train - mu) / sigma\n",
        "X_test = (X_test - mu) / sigma\n",
        "print(X_train.shape)\n",
        "print(y_train.shape)\n",
        "print(X_test.shape)\n",
        "print(y_test.shape)"
      ]
    },
    {
      "cell_type": "markdown",
      "metadata": {
        "id": "dMKLS-UscvUj"
      },
      "source": [
        "7. Train the perceptron"
      ]
    },
    {
      "cell_type": "code",
      "execution_count": 24,
      "metadata": {
        "colab": {
          "base_uri": "https://localhost:8080/"
        },
        "id": "HdYqJTw9cvUk",
        "outputId": "70662d37-736e-4b60-a94c-b80e42a3e7c0"
      },
      "outputs": [
        {
          "output_type": "stream",
          "name": "stdout",
          "text": [
            "Model parameters:\n",
            "  Weights: tensor([[3.5146],\n",
            "        [1.3732]])\n",
            "  Bias: tensor([-1.])\n"
          ]
        },
        {
          "output_type": "stream",
          "name": "stderr",
          "text": [
            "/usr/local/lib/python3.7/dist-packages/ipykernel_launcher.py:3: UserWarning: To copy construct from a tensor, it is recommended to use sourceTensor.clone().detach() or sourceTensor.clone().detach().requires_grad_(True), rather than torch.tensor(sourceTensor).\n",
            "  This is separate from the ipykernel package so we can avoid doing imports until\n",
            "/usr/local/lib/python3.7/dist-packages/ipykernel_launcher.py:4: UserWarning: To copy construct from a tensor, it is recommended to use sourceTensor.clone().detach() or sourceTensor.clone().detach().requires_grad_(True), rather than torch.tensor(sourceTensor).\n",
            "  after removing the cwd from sys.path.\n"
          ]
        }
      ],
      "source": [
        "model = Perceptron(num_features=2)\n",
        "\n",
        "X_train_tensor = torch.tensor(X_train, dtype=torch.float32, device=device)\n",
        "y_train_tensor = torch.tensor(y_train, dtype=torch.float32, device=device)\n",
        "\n",
        "model.train(X_train_tensor, y_train_tensor, epochs=5)\n",
        "\n",
        "print('Model parameters:')\n",
        "print('  Weights: %s' % model.weights)\n",
        "print('  Bias: %s' % model.bias)"
      ]
    },
    {
      "cell_type": "markdown",
      "metadata": {
        "id": "D98dINCPcvUl"
      },
      "source": [
        "8. evaluate the model (accuracy)"
      ]
    },
    {
      "cell_type": "code",
      "execution_count": 25,
      "metadata": {
        "colab": {
          "base_uri": "https://localhost:8080/"
        },
        "id": "KPQF-SFCcvUl",
        "outputId": "010096d0-9ab1-4561-84d1-b8d1f378d93d"
      },
      "outputs": [
        {
          "output_type": "stream",
          "name": "stdout",
          "text": [
            "Test set accuracy: 100.00%\n"
          ]
        },
        {
          "output_type": "stream",
          "name": "stderr",
          "text": [
            "/usr/local/lib/python3.7/dist-packages/ipykernel_launcher.py:1: UserWarning: To copy construct from a tensor, it is recommended to use sourceTensor.clone().detach() or sourceTensor.clone().detach().requires_grad_(True), rather than torch.tensor(sourceTensor).\n",
            "  \"\"\"Entry point for launching an IPython kernel.\n",
            "/usr/local/lib/python3.7/dist-packages/ipykernel_launcher.py:2: UserWarning: To copy construct from a tensor, it is recommended to use sourceTensor.clone().detach() or sourceTensor.clone().detach().requires_grad_(True), rather than torch.tensor(sourceTensor).\n",
            "  \n"
          ]
        }
      ],
      "source": [
        "X_test_tensor = torch.tensor(X_test, dtype=torch.float32, device=device)\n",
        "y_test_tensor = torch.tensor(y_test, dtype=torch.float32, device=device)\n",
        "\n",
        "test_acc = model.evaluate(X_test_tensor, y_test_tensor)\n",
        "print('Test set accuracy: %.2f%%' % (test_acc*100))"
      ]
    },
    {
      "cell_type": "code",
      "execution_count": 25,
      "metadata": {
        "id": "LJCvujDvcvUm"
      },
      "outputs": [],
      "source": [
        ""
      ]
    },
    {
      "cell_type": "code",
      "execution_count": 25,
      "metadata": {
        "id": "_sft-JKNcvUm"
      },
      "outputs": [],
      "source": [
        ""
      ]
    },
    {
      "cell_type": "code",
      "execution_count": 25,
      "metadata": {
        "id": "VNBFt_NlcvUo"
      },
      "outputs": [],
      "source": [
        ""
      ]
    },
    {
      "cell_type": "markdown",
      "metadata": {
        "id": "_PMVgHFScvUp"
      },
      "source": [
        "# Multi Layer Perceptron"
      ]
    },
    {
      "cell_type": "markdown",
      "metadata": {
        "id": "DmivQW25cvUq"
      },
      "source": [
        "Unlike the single-layer perceptron, the Multi Layer Perceptron models have hidden layers\n",
        "between the input and the output layers. After every hidden layer, an activation function \n",
        "is applied to introduce non-linearity. \n",
        "\n",
        "9. Built a simple Multi Layer Perceptron model withe one hidden layer. \n",
        "After the hidden layer, we will use ReLU as activation before the information is sent to the output layer.\n",
        "As an output activation function, we will use Sigmoid. "
      ]
    },
    {
      "cell_type": "code",
      "execution_count": 26,
      "metadata": {
        "id": "mUfay2UqcvUq"
      },
      "outputs": [],
      "source": [
        "class MultilayerPerceptron(torch.nn.Module):\n",
        "    def __init__(self, num_features,num_hidden_1):\n",
        "        super(MultilayerPerceptron, self).__init__()\n",
        "        self.num_features = num_features\n",
        "        self.num_hidden_1  = num_hidden_1\n",
        "        self.fc1 = torch.nn.Linear(self.num_features, self.num_hidden_1)\n",
        "        self.relu = torch.nn.ReLU()\n",
        "        self.fc2 = torch.nn.Linear(self.num_hidden_1, 1)\n",
        "        self.sigmoid = torch.nn.Sigmoid()\n",
        "        \n",
        "        \n",
        "        \n",
        "        \n",
        "    def forward(self, x):\n",
        "        hidden = self.fc1(x)\n",
        "        relu = self.relu(hidden)\n",
        "        output = self.fc2(relu)\n",
        "        output = self.sigmoid(output)\n",
        "        return output"
      ]
    },
    {
      "cell_type": "markdown",
      "metadata": {
        "id": "RXEOOt09cvUr"
      },
      "source": [
        "10. Create a random datasets and assign binary labels {0,1}"
      ]
    },
    {
      "cell_type": "code",
      "execution_count": 27,
      "metadata": {
        "colab": {
          "base_uri": "https://localhost:8080/"
        },
        "id": "KL5RnIcTcvUs",
        "outputId": "775b1637-23c7-42ad-c347-66517578fac8"
      },
      "outputs": [
        {
          "output_type": "stream",
          "name": "stdout",
          "text": [
            "torch.Size([40, 2])\n",
            "torch.Size([40])\n",
            "torch.Size([10, 2])\n",
            "torch.Size([10])\n"
          ]
        }
      ],
      "source": [
        "def blob_label(y, label, loc): # assign labels\n",
        "    target = np.copy(y)\n",
        "    for l in loc:\n",
        "        target[y == l] = label\n",
        "    return target\n",
        "x_train, y_train = make_blobs(n_samples=40, n_features=2, cluster_std=1.5, shuffle=True)\n",
        "x_train = torch.FloatTensor(x_train)\n",
        "y_train = torch.FloatTensor(blob_label(y_train, 0, [0]))\n",
        "y_train = torch.FloatTensor(blob_label(y_train, 1, [1,2,3]))\n",
        "x_test, y_test = make_blobs(n_samples=10, n_features=2, cluster_std=1.5, shuffle=True)\n",
        "x_test = torch.FloatTensor(x_test)\n",
        "y_test = torch.FloatTensor(blob_label(y_test, 0, [0]))\n",
        "y_test = torch.FloatTensor(blob_label(y_test, 1, [1,2,3]))\n",
        "print(x_train.shape)\n",
        "print(y_train.shape)\n",
        "print(x_test.shape)\n",
        "print(y_test.shape)"
      ]
    },
    {
      "cell_type": "markdown",
      "metadata": {
        "id": "x1DL0ZSgcvUt"
      },
      "source": [
        "11. Define the model with input dimension 2 and hidden dimension 10. \n",
        "Since the task is to classify binary labels, we can use as criterion BCELoss (Binary Cross Entropy Loss) : loss function.\n",
        "The optimizer is SGD (Stochastic Gradient Descent) with learning rate 0.01."
      ]
    },
    {
      "cell_type": "code",
      "execution_count": 28,
      "metadata": {
        "id": "cD_gO2ZKcvUu"
      },
      "outputs": [],
      "source": [
        "model = MultilayerPerceptron(2, 10)\n",
        "criterion = torch.nn.BCELoss()\n",
        "optimizer = torch.optim.SGD(model.parameters(), lr = 0.01)"
      ]
    },
    {
      "cell_type": "markdown",
      "metadata": {
        "id": "DavZsKU0cvUu"
      },
      "source": [
        "12. Check the test loss before the model training and compare it with the test loss after the training."
      ]
    },
    {
      "cell_type": "code",
      "execution_count": 29,
      "metadata": {
        "colab": {
          "base_uri": "https://localhost:8080/"
        },
        "id": "M-fWacNScvUv",
        "outputId": "5401c1c6-901f-412c-922b-fd3bb4933a00"
      },
      "outputs": [
        {
          "output_type": "stream",
          "name": "stdout",
          "text": [
            "Test loss before training 1.7764520645141602\n"
          ]
        }
      ],
      "source": [
        "model.eval()\n",
        "y_pred = model(x_test)\n",
        "before_train = criterion(y_pred.squeeze(), y_test)\n",
        "print('Test loss before training' , before_train.item())"
      ]
    },
    {
      "cell_type": "code",
      "execution_count": 30,
      "metadata": {
        "colab": {
          "base_uri": "https://localhost:8080/"
        },
        "id": "roRBZ_RfcvUv",
        "outputId": "1985bd5e-2201-4e70-9015-53cd93980114"
      },
      "outputs": [
        {
          "output_type": "stream",
          "name": "stdout",
          "text": [
            "Epoch 0: train loss: 1.387619137763977\n",
            "Epoch 1: train loss: 1.327924370765686\n",
            "Epoch 2: train loss: 1.272007942199707\n",
            "Epoch 3: train loss: 1.2197526693344116\n",
            "Epoch 4: train loss: 1.171038269996643\n",
            "Epoch 5: train loss: 1.1257383823394775\n",
            "Epoch 6: train loss: 1.083721399307251\n",
            "Epoch 7: train loss: 1.0448486804962158\n",
            "Epoch 8: train loss: 1.0089747905731201\n",
            "Epoch 9: train loss: 0.9759483337402344\n",
            "Epoch 10: train loss: 0.9456130862236023\n",
            "Epoch 11: train loss: 0.9178093671798706\n",
            "Epoch 12: train loss: 0.8923749923706055\n",
            "Epoch 13: train loss: 0.8691486120223999\n",
            "Epoch 14: train loss: 0.8479700088500977\n",
            "Epoch 15: train loss: 0.8286828994750977\n",
            "Epoch 16: train loss: 0.8111358880996704\n",
            "Epoch 17: train loss: 0.7951839566230774\n",
            "Epoch 18: train loss: 0.7806897163391113\n",
            "Epoch 19: train loss: 0.767523467540741\n"
          ]
        }
      ],
      "source": [
        "model.train()\n",
        "epoch = 20\n",
        "for epoch in range(epoch):\n",
        "    optimizer.zero_grad()\n",
        "    # Forward pass\n",
        "    y_pred = model(x_train)\n",
        "    # Compute Loss\n",
        "    loss = criterion(y_pred.squeeze(), y_train)\n",
        "    print('Epoch {}: train loss: {}'.format(epoch, loss.item()))\n",
        "    # Backward pass\n",
        "    loss.backward()\n",
        "    optimizer.step()"
      ]
    },
    {
      "cell_type": "code",
      "execution_count": 31,
      "metadata": {
        "colab": {
          "base_uri": "https://localhost:8080/"
        },
        "id": "a_gL0AJRcvUw",
        "outputId": "737a37d8-c2be-4643-f5b1-8606b2caef18"
      },
      "outputs": [
        {
          "output_type": "stream",
          "name": "stdout",
          "text": [
            "Test loss after Training 1.117434024810791\n"
          ]
        }
      ],
      "source": [
        "model.eval()\n",
        "y_pred = model(x_test)\n",
        "after_train = criterion(y_pred.squeeze(), y_test) \n",
        "print('Test loss after Training' , after_train.item())"
      ]
    },
    {
      "cell_type": "markdown",
      "metadata": {
        "id": "pSXFunfMcvUy"
      },
      "source": [
        "13. In order to improve the model, you can try out different parameter values for your\n",
        "hyperparameters(ie. hidden dimension size, epoch size, learning rates). You can also \n",
        "try changing the structure of your model (ie. adding more hidden layers) to see if your\n",
        "mode improves. "
      ]
    },
    {
      "cell_type": "markdown",
      "metadata": {
        "id": "44UsWDxWcvUy"
      },
      "source": [
        "https://medium.com/biaslyai/pytorch-introduction-to-neural-network-feedforward-neural-network-model-e7231cff47cb"
      ]
    },
    {
      "cell_type": "code",
      "execution_count": 31,
      "metadata": {
        "id": "OnOySABacvUy"
      },
      "outputs": [],
      "source": [
        ""
      ]
    }
  ],
  "metadata": {
    "kernelspec": {
      "display_name": "Python 3",
      "language": "python",
      "name": "python3"
    },
    "language_info": {
      "codemirror_mode": {
        "name": "ipython",
        "version": 3
      },
      "file_extension": ".py",
      "mimetype": "text/x-python",
      "name": "python",
      "nbconvert_exporter": "python",
      "pygments_lexer": "ipython3",
      "version": "3.7.6"
    },
    "colab": {
      "name": "TP N° 3.ipynb",
      "provenance": [],
      "include_colab_link": true
    }
  },
  "nbformat": 4,
  "nbformat_minor": 0
}